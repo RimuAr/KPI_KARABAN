{
 "cells": [
  {
   "cell_type": "code",
   "execution_count": 1,
   "id": "0834a197-ce82-4e5b-9cf7-ecb550ffbcbf",
   "metadata": {},
   "outputs": [
    {
     "name": "stdout",
     "output_type": "stream",
     "text": [
      "Оптимальне значення q: 5\n",
      "Мінімальне значення функції: 6.0\n"
     ]
    }
   ],
   "source": [
    "import numpy as np\n",
    "from itertools import product\n",
    "\n",
    "def vectors(length):\n",
    "    return list(product([0, 1], repeat=length))\n",
    "\n",
    "def target_function(q, vect):\n",
    "    return (1/(2**10)) * sum((q - np.sum(vect))**2 for vect in vect) #Цільова функція для мінімізації\n",
    "\n",
    "def minimize(vect): #Мінімізація цільової функції\n",
    "    best_q = None\n",
    "    best_value = float('inf')\n",
    "\n",
    "    for q_candidate in range(12):  \n",
    "        current_value = target_function(q_candidate, vect)\n",
    "        if current_value < best_value:\n",
    "            best_value = current_value\n",
    "            best_q = q_candidate\n",
    "\n",
    "    return best_q, best_value\n",
    "\n",
    "vect = vectors(11)\n",
    "optimal_q, minimal_value = minimize(vect)\n",
    "\n",
    "print(\"Оптимальне значення q:\", optimal_q)\n",
    "print(\"Мінімальне значення функції:\", minimal_value)"
   ]
  },
  {
   "cell_type": "code",
   "execution_count": null,
   "id": "d9f89046-8496-4007-8985-124c430753a6",
   "metadata": {},
   "outputs": [],
   "source": []
  }
 ],
 "metadata": {
  "kernelspec": {
   "display_name": "Python 3 (ipykernel)",
   "language": "python",
   "name": "python3"
  },
  "language_info": {
   "codemirror_mode": {
    "name": "ipython",
    "version": 3
   },
   "file_extension": ".py",
   "mimetype": "text/x-python",
   "name": "python",
   "nbconvert_exporter": "python",
   "pygments_lexer": "ipython3",
   "version": "3.10.11"
  }
 },
 "nbformat": 4,
 "nbformat_minor": 5
}
