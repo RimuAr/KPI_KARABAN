{
 "cells": [
  {
   "cell_type": "code",
   "execution_count": 5,
   "id": "8722d676-1e10-489b-82e7-69fc6ac68e30",
   "metadata": {},
   "outputs": [
    {
     "name": "stdout",
     "output_type": "stream",
     "text": [
      "Розділяючий вектор з опуклої оболонки:\n",
      "[-0.5398604  -0.83131716 -0.13214584]\n"
     ]
    }
   ],
   "source": [
    "import numpy as np\n",
    "from scipy.spatial import ConvexHull\n",
    "\n",
    "def vectors(N):\n",
    "    np.random.seed(42)\n",
    "    xy = np.random.exponential(scale=1, size=(N, 2))\n",
    "    z = np.random.normal(size=N)\n",
    "    independent_vect = np.column_stack((xy, z))\n",
    "    return independent_vect\n",
    "\n",
    "def kozinec(independent_vectors): #Алгоритм Козинця\n",
    "    hull = ConvexHull(independent_vectors)\n",
    "    separating_vect = hull.equations[:, :-1].mean(axis=0)\n",
    "    return separating_vect / np.linalg.norm(separating_vect)\n",
    "\n",
    "vect = vectors(100)\n",
    "separating_vect = kozinec(vect)\n",
    "print(\"Розділяючий вектор з опуклої оболонки:\")\n",
    "print(separating_vect)"
   ]
  }
 ],
 "metadata": {
  "kernelspec": {
   "display_name": "Python 3 (ipykernel)",
   "language": "python",
   "name": "python3"
  },
  "language_info": {
   "codemirror_mode": {
    "name": "ipython",
    "version": 3
   },
   "file_extension": ".py",
   "mimetype": "text/x-python",
   "name": "python",
   "nbconvert_exporter": "python",
   "pygments_lexer": "ipython3",
   "version": "3.10.11"
  }
 },
 "nbformat": 4,
 "nbformat_minor": 5
}
